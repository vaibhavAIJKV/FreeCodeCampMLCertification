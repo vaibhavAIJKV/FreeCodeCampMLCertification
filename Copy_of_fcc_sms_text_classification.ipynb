{
  "cells": [
    {
      "cell_type": "markdown",
      "metadata": {
        "id": "Eg62Pmz3o83v"
      },
      "source": [
        "*Note: You are currently reading this using Google Colaboratory which is a cloud-hosted version of Jupyter Notebook. This is a document containing both text cells for documentation and runnable code cells. If you are unfamiliar with Jupyter Notebook, watch this 3-minute introduction before starting this challenge: https://www.youtube.com/watch?v=inN8seMm7UI*\n",
        "\n",
        "---\n",
        "\n",
        "In this challenge, you need to create a machine learning model that will classify SMS messages as either \"ham\" or \"spam\". A \"ham\" message is a normal message sent by a friend. A \"spam\" message is an advertisement or a message sent by a company.\n",
        "\n",
        "You should create a function called `predict_message` that takes a message string as an argument and returns a list. The first element in the list should be a number between zero and one that indicates the likeliness of \"ham\" (0) or \"spam\" (1). The second element in the list should be the word \"ham\" or \"spam\", depending on which is most likely.\n",
        "\n",
        "For this challenge, you will use the [SMS Spam Collection dataset](http://www.dt.fee.unicamp.br/~tiago/smsspamcollection/). The dataset has already been grouped into train data and test data.\n",
        "\n",
        "The first two cells import the libraries and data. The final cell tests your model and function. Add your code in between these cells.\n"
      ]
    },
    {
      "cell_type": "code",
      "execution_count": null,
      "metadata": {
        "id": "8RZOuS9LWQvv"
      },
      "outputs": [],
      "source": [
        "# import libraries\n",
        "#try:\n",
        "  # %tensorflow_version only exists in Colab.\n",
        "#  !pip install tf-nightly\n",
        "#except Exception:\n",
        "#  pass\n",
        "import tensorflow as tf\n",
        "import pandas as pd\n",
        "from tensorflow import keras\n",
        "#!pip install tensorflow-datasets\n",
        "import tensorflow_datasets as tfds\n",
        "import numpy as np\n",
        "import matplotlib.pyplot as plt\n",
        "from tensorflow.keras import layers\n",
        "\n"
      ]
    },
    {
      "cell_type": "code",
      "execution_count": null,
      "metadata": {
        "id": "lMHwYXHXCar3",
        "colab": {
          "base_uri": "https://localhost:8080/"
        },
        "outputId": "d9eed842-e6af-4638-d7a8-15073b7a7c62"
      },
      "outputs": [
        {
          "output_type": "stream",
          "name": "stdout",
          "text": [
            "--2022-02-27 12:04:12--  https://cdn.freecodecamp.org/project-data/sms/train-data.tsv\n",
            "Resolving cdn.freecodecamp.org (cdn.freecodecamp.org)... 104.26.3.33, 172.67.70.149, 104.26.2.33, ...\n",
            "Connecting to cdn.freecodecamp.org (cdn.freecodecamp.org)|104.26.3.33|:443... connected.\n",
            "HTTP request sent, awaiting response... 200 OK\n",
            "Length: 358233 (350K) [text/tab-separated-values]\n",
            "Saving to: ‘train-data.tsv.3’\n",
            "\n",
            "\rtrain-data.tsv.3      0%[                    ]       0  --.-KB/s               \rtrain-data.tsv.3    100%[===================>] 349.84K  --.-KB/s    in 0.03s   \n",
            "\n",
            "2022-02-27 12:04:13 (10.5 MB/s) - ‘train-data.tsv.3’ saved [358233/358233]\n",
            "\n",
            "--2022-02-27 12:04:13--  https://cdn.freecodecamp.org/project-data/sms/valid-data.tsv\n",
            "Resolving cdn.freecodecamp.org (cdn.freecodecamp.org)... 104.26.3.33, 172.67.70.149, 104.26.2.33, ...\n",
            "Connecting to cdn.freecodecamp.org (cdn.freecodecamp.org)|104.26.3.33|:443... connected.\n",
            "HTTP request sent, awaiting response... 200 OK\n",
            "Length: 118774 (116K) [text/tab-separated-values]\n",
            "Saving to: ‘valid-data.tsv.3’\n",
            "\n",
            "valid-data.tsv.3    100%[===================>] 115.99K  --.-KB/s    in 0.01s   \n",
            "\n",
            "2022-02-27 12:04:13 (8.28 MB/s) - ‘valid-data.tsv.3’ saved [118774/118774]\n",
            "\n"
          ]
        }
      ],
      "source": [
        "# get data files\n",
        "!wget https://cdn.freecodecamp.org/project-data/sms/train-data.tsv\n",
        "!wget https://cdn.freecodecamp.org/project-data/sms/valid-data.tsv\n",
        "\n",
        "train_file_path = \"train-data.tsv\"\n",
        "test_file_path = \"valid-data.tsv\""
      ]
    },
    {
      "cell_type": "code",
      "execution_count": null,
      "metadata": {
        "id": "g_h508FEClxO"
      },
      "outputs": [],
      "source": [
        "train= pd.read_csv(train_file_path, sep=\"\\t\", header=None, names=[\"type\", \"msg\"])\n"
      ]
    },
    {
      "cell_type": "code",
      "execution_count": null,
      "metadata": {
        "id": "zOMKywn4zReN"
      },
      "outputs": [],
      "source": [
        "test= pd.read_csv(test_file_path, sep=\"\\t\", header=None, names=[\"type\", \"msg\"])\n"
      ]
    },
    {
      "cell_type": "code",
      "source": [
        "print(len(train))"
      ],
      "metadata": {
        "colab": {
          "base_uri": "https://localhost:8080/"
        },
        "id": "m1RuVHOw757D",
        "outputId": "c4911ed5-e923-456f-a4a2-0aa1d4065e0d"
      },
      "execution_count": null,
      "outputs": [
        {
          "output_type": "stream",
          "name": "stdout",
          "text": [
            "4179\n"
          ]
        }
      ]
    },
    {
      "cell_type": "code",
      "source": [
        "train_label=pd.factorize(train['type'])\n",
        "train.pop('type')"
      ],
      "metadata": {
        "colab": {
          "base_uri": "https://localhost:8080/"
        },
        "id": "LhCvWmk-xw9V",
        "outputId": "261439c0-ef8e-47dd-8ae3-e23843e12822"
      },
      "execution_count": null,
      "outputs": [
        {
          "output_type": "execute_result",
          "data": {
            "text/plain": [
              "0        ham\n",
              "1        ham\n",
              "2        ham\n",
              "3        ham\n",
              "4        ham\n",
              "        ... \n",
              "4174     ham\n",
              "4175     ham\n",
              "4176    spam\n",
              "4177    spam\n",
              "4178     ham\n",
              "Name: type, Length: 4179, dtype: object"
            ]
          },
          "metadata": {},
          "execution_count": 71
        }
      ]
    },
    {
      "cell_type": "code",
      "source": [
        "test_label=pd.factorize(test['type'])\n",
        "test.pop('type')"
      ],
      "metadata": {
        "colab": {
          "base_uri": "https://localhost:8080/"
        },
        "id": "KgsCphgAxxEW",
        "outputId": "7a624376-d21c-40c0-fb55-44024fb3cc0a"
      },
      "execution_count": null,
      "outputs": [
        {
          "output_type": "execute_result",
          "data": {
            "text/plain": [
              "0        ham\n",
              "1        ham\n",
              "2        ham\n",
              "3        ham\n",
              "4        ham\n",
              "        ... \n",
              "1387     ham\n",
              "1388     ham\n",
              "1389     ham\n",
              "1390    spam\n",
              "1391    spam\n",
              "Name: type, Length: 1392, dtype: object"
            ]
          },
          "metadata": {},
          "execution_count": 72
        }
      ]
    },
    {
      "cell_type": "code",
      "source": [
        "#train_label=np.array(list(map(lambda x: 1 if x==\"ham\" else 0, train_label)))\n",
        "print(train_label)"
      ],
      "metadata": {
        "colab": {
          "base_uri": "https://localhost:8080/"
        },
        "id": "zOIarc-yzmQE",
        "outputId": "0d296ed0-a960-439d-e1c8-3e7a463df2be"
      },
      "execution_count": null,
      "outputs": [
        {
          "output_type": "stream",
          "name": "stdout",
          "text": [
            "(array([0, 0, 0, ..., 1, 1, 0]), Index(['ham', 'spam'], dtype='object'))\n"
          ]
        }
      ]
    },
    {
      "cell_type": "code",
      "source": [
        "from keras.preprocessing.text import Tokenizer\n",
        "\n",
        "tokenizer = Tokenizer(num_words=1000)\n",
        "tokenizer.fit_on_texts(train['msg'])\n",
        "\n",
        "traintt = (tokenizer.texts_to_sequences(train['msg']))\n",
        "\n",
        "testtt = ((tokenizer.texts_to_sequences(test['msg'])))\n"
      ],
      "metadata": {
        "id": "u8iN3ft453s_"
      },
      "execution_count": null,
      "outputs": []
    },
    {
      "cell_type": "code",
      "source": [
        "from keras.preprocessing import sequence\n",
        "train_inp= sequence.pad_sequences(traintt, maxlen=1000)\n"
      ],
      "metadata": {
        "id": "FV9uSLWA_M5G"
      },
      "execution_count": null,
      "outputs": []
    },
    {
      "cell_type": "code",
      "source": [
        "model2 = keras.Sequential()\n",
        "\n",
        "#model2.add(tf.keras.layers.Input(shape=[1000]))\n",
        "model2.add(tf.keras.layers.Embedding(1000, 50, input_length=1000))\n",
        "model2.add(tf.keras.layers.LSTM(64))\n",
        "model2.add(tf.keras.layers.Dense(256, activation='relu'))\n",
        "model2.add(tf.keras.layers.Dropout(0.5))\n",
        "model2.add(tf.keras.layers.Dense(1, activation='relu'))\n",
        "\n",
        "model2.compile(\n",
        "    loss='binary_crossentropy',\n",
        "    optimizer='RMSprop',\n",
        "    metrics=['accuracy']\n",
        ")\n",
        "model2.summary()"
      ],
      "metadata": {
        "colab": {
          "base_uri": "https://localhost:8080/"
        },
        "id": "uXfBVA1-4QYv",
        "outputId": "1b739c97-6785-4e5f-aa58-fef6fcac586b"
      },
      "execution_count": null,
      "outputs": [
        {
          "output_type": "stream",
          "name": "stdout",
          "text": [
            "Model: \"sequential_9\"\n",
            "_________________________________________________________________\n",
            " Layer (type)                Output Shape              Param #   \n",
            "=================================================================\n",
            " embedding_9 (Embedding)     (None, 1000, 50)          50000     \n",
            "                                                                 \n",
            " lstm_9 (LSTM)               (None, 64)                29440     \n",
            "                                                                 \n",
            " dense_18 (Dense)            (None, 256)               16640     \n",
            "                                                                 \n",
            " dropout_9 (Dropout)         (None, 256)               0         \n",
            "                                                                 \n",
            " dense_19 (Dense)            (None, 1)                 257       \n",
            "                                                                 \n",
            "=================================================================\n",
            "Total params: 96,337\n",
            "Trainable params: 96,337\n",
            "Non-trainable params: 0\n",
            "_________________________________________________________________\n"
          ]
        }
      ]
    },
    {
      "cell_type": "code",
      "source": [
        "r = model2.fit(train_inp, train_label[0],\n",
        "              batch_size=128, epochs=10)"
      ],
      "metadata": {
        "id": "M1fjs6vjGnZf",
        "colab": {
          "base_uri": "https://localhost:8080/"
        },
        "outputId": "aa0f9bbe-48c7-43a1-9d56-8f957393887f"
      },
      "execution_count": null,
      "outputs": [
        {
          "output_type": "stream",
          "name": "stdout",
          "text": [
            "Epoch 1/10\n",
            "33/33 [==============================] - 48s 1s/step - loss: 0.2837 - accuracy: 0.9000\n",
            "Epoch 2/10\n",
            "33/33 [==============================] - 44s 1s/step - loss: 0.0802 - accuracy: 0.9816\n",
            "Epoch 3/10\n",
            "33/33 [==============================] - 45s 1s/step - loss: 0.0567 - accuracy: 0.9885\n",
            "Epoch 4/10\n",
            "33/33 [==============================] - 44s 1s/step - loss: 0.0481 - accuracy: 0.9919\n",
            "Epoch 5/10\n",
            "33/33 [==============================] - 45s 1s/step - loss: 0.0534 - accuracy: 0.9933\n",
            "Epoch 6/10\n",
            "33/33 [==============================] - 45s 1s/step - loss: 0.0397 - accuracy: 0.9950\n",
            "Epoch 7/10\n",
            "33/33 [==============================] - 45s 1s/step - loss: 0.0341 - accuracy: 0.9969\n",
            "Epoch 8/10\n",
            "33/33 [==============================] - 46s 1s/step - loss: 0.0334 - accuracy: 0.9966\n",
            "Epoch 9/10\n",
            "33/33 [==============================] - 47s 1s/step - loss: 0.0318 - accuracy: 0.9974\n",
            "Epoch 10/10\n",
            "33/33 [==============================] - 47s 1s/step - loss: 0.0330 - accuracy: 0.9969\n"
          ]
        }
      ]
    },
    {
      "cell_type": "code",
      "source": [
        "def padding(X):\n",
        "  \n",
        "  x = tokenizer.texts_to_sequences(X)\n",
        "  return sequence.pad_sequences(x, maxlen=1000)"
      ],
      "metadata": {
        "id": "CGk-w7rPG7q6"
      },
      "execution_count": null,
      "outputs": []
    },
    {
      "cell_type": "code",
      "execution_count": null,
      "metadata": {
        "id": "J9tD9yACG6M9",
        "colab": {
          "base_uri": "https://localhost:8080/"
        },
        "outputId": "ea5db0f8-42d1-425e-8cb0-2f4ac70165b0"
      },
      "outputs": [
        {
          "output_type": "stream",
          "name": "stdout",
          "text": [
            "(0.0, 'ham')\n"
          ]
        }
      ],
      "source": [
        "# function to predict messages based on model\n",
        "# (should return list containing prediction and label, ex. [0.008318834938108921, 'ham'])\n",
        "from sklearn.ensemble import RandomForestClassifier \n",
        "\n",
        "\n",
        "def predict_message(pred_text):\n",
        "    out = model.predict(padding(pd.Series([pred_text])))[0]\n",
        "\n",
        "    return (out[0], (\"ham\" if out<0.5 else \"spam\"))\n",
        "\n",
        "\n",
        "\n",
        "pred_text = \"how are you doing today?\"\n",
        "\n",
        "prediction = predict_message(pred_text)\n",
        "print(prediction)"
      ]
    },
    {
      "cell_type": "code",
      "execution_count": null,
      "metadata": {
        "id": "Dxotov85SjsC",
        "colab": {
          "base_uri": "https://localhost:8080/"
        },
        "outputId": "2ee997d6-d83e-4abf-fe4f-f70e724f1fe6"
      },
      "outputs": [
        {
          "output_type": "stream",
          "name": "stdout",
          "text": [
            "You passed the challenge. Great job!\n"
          ]
        }
      ],
      "source": [
        "# Run this cell to test your function and model. Do not modify contents.\n",
        "def test_predictions():\n",
        "  test_messages = [\"how are you doing today\",\n",
        "                   \"sale today! to stop texts call 98912460324\",\n",
        "                   \"i dont want to go. can we try it a different day? available sat\",\n",
        "                   \"our new mobile video service is live. just install on your phone to start watching.\",\n",
        "                   \"you have won £1000 cash! call to claim your prize.\",\n",
        "                   \"i'll bring it tomorrow. don't forget the milk.\",\n",
        "                   \"wow, is your arm alright. that happened to me one time too\"\n",
        "                  ]\n",
        "\n",
        "  test_answers = [\"ham\", \"spam\", \"ham\", \"spam\", \"spam\", \"ham\", \"ham\"]\n",
        "  passed = True\n",
        "\n",
        "  for msg, ans in zip(test_messages, test_answers):\n",
        "    prediction = predict_message(msg)\n",
        "    if prediction[1] != ans:\n",
        "      passed = False\n",
        "\n",
        "  if passed:\n",
        "    print(\"You passed the challenge. Great job!\")\n",
        "  else:\n",
        "    print(\"You haven't passed yet. Keep trying.\")\n",
        "\n",
        "test_predictions()\n"
      ]
    },
    {
      "cell_type": "code",
      "source": [
        ""
      ],
      "metadata": {
        "id": "Yh8cYlRv2uyV"
      },
      "execution_count": null,
      "outputs": []
    }
  ],
  "metadata": {
    "colab": {
      "collapsed_sections": [],
      "name": "Copy of fcc_sms_text_classification.ipynb",
      "provenance": [],
      "toc_visible": true
    },
    "kernelspec": {
      "display_name": "Python 3",
      "name": "python3"
    },
    "language_info": {}
  },
  "nbformat": 4,
  "nbformat_minor": 0
}